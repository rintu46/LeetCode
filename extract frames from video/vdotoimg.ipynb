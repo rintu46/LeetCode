{
 "cells": [
  {
   "cell_type": "code",
   "execution_count": null,
   "metadata": {},
   "outputs": [],
   "source": []
  },
  {
   "cell_type": "code",
   "execution_count": 12,
   "metadata": {},
   "outputs": [
    {
     "name": "stdout",
     "output_type": "stream",
     "text": [
      "705 frames extracted and saved in output_images7.\n"
     ]
    }
   ],
   "source": [
    "import cv2\n",
    "import os\n",
    "\n",
    "def extract_frames(video_file, output_folder, frames_per_second=30):\n",
    "    # Create the output folder if it doesn't exist\n",
    "    os.makedirs(output_folder, exist_ok=True)\n",
    "\n",
    "    # Open the video file\n",
    "    video_capture = cv2.VideoCapture(video_file)\n",
    "\n",
    "    # Get the frames per second (FPS) of the video\n",
    "    fps = int(video_capture.get(cv2.CAP_PROP_FPS))\n",
    "\n",
    "    # Calculate the skip factor to achieve the desired frames per second\n",
    "    skip_factor = fps // frames_per_second\n",
    "\n",
    "    # Initialize frame counter\n",
    "    frame_count = 0\n",
    "\n",
    "    while True:\n",
    "        # Read a frame from the video\n",
    "        ret, frame = video_capture.read()\n",
    "\n",
    "        # Break the loop if we have reached the end of the video\n",
    "        if not ret:\n",
    "            break\n",
    "\n",
    "        # Save the frame as an image every 'skip_factor' frames\n",
    "        if frame_count % skip_factor == 0:\n",
    "            image_name = os.path.join(output_folder, f'frame_{frame_count:04d}.jpg')\n",
    "            cv2.imwrite(image_name, frame)\n",
    "\n",
    "        # Increment the frame counter\n",
    "        frame_count += 1\n",
    "\n",
    "    # Release the video capture object\n",
    "    video_capture.release()\n",
    "\n",
    "    print(f'{frame_count} frames extracted and saved in {output_folder}.')\n",
    "\n",
    "if __name__ == \"__main__\":\n",
    "    input_video_file = 'received_310676851510799.mp4'  # Set the input video file path here\n",
    "    output_image_folder = 'output_images7'  # Set the output image folder here\n",
    "\n",
    "    extract_frames(input_video_file, output_image_folder)\n"
   ]
  }
 ],
 "metadata": {
  "kernelspec": {
   "display_name": "mmdet_human",
   "language": "python",
   "name": "python3"
  },
  "language_info": {
   "codemirror_mode": {
    "name": "ipython",
    "version": 3
   },
   "file_extension": ".py",
   "mimetype": "text/x-python",
   "name": "python",
   "nbconvert_exporter": "python",
   "pygments_lexer": "ipython3",
   "version": "3.7.12"
  },
  "orig_nbformat": 4
 },
 "nbformat": 4,
 "nbformat_minor": 2
}
