{
 "cells": [
  {
   "cell_type": "code",
   "execution_count": 1,
   "metadata": {},
   "outputs": [
    {
     "name": "stdout",
     "output_type": "stream",
     "text": [
      "Looking in indexes: https://pypi.org/simple, https://pypi.ngc.nvidia.com\n",
      "Requirement already satisfied: moviepy in /home/parvej/anaconda3/envs/mmdet_human/lib/python3.7/site-packages (1.0.3)\n",
      "Requirement already satisfied: decorator<5.0,>=4.0.2 in /home/parvej/anaconda3/envs/mmdet_human/lib/python3.7/site-packages (from moviepy) (4.4.2)\n",
      "Requirement already satisfied: tqdm<5.0,>=4.11.2 in /home/parvej/anaconda3/envs/mmdet_human/lib/python3.7/site-packages (from moviepy) (4.65.2)\n",
      "Requirement already satisfied: requests<3.0,>=2.8.1 in /home/parvej/anaconda3/envs/mmdet_human/lib/python3.7/site-packages (from moviepy) (2.28.2)\n",
      "Requirement already satisfied: proglog<=1.0.0 in /home/parvej/anaconda3/envs/mmdet_human/lib/python3.7/site-packages (from moviepy) (0.1.10)\n",
      "Requirement already satisfied: numpy>=1.17.3 in /home/parvej/anaconda3/envs/mmdet_human/lib/python3.7/site-packages (from moviepy) (1.20.1)\n",
      "Requirement already satisfied: imageio<3.0,>=2.5 in /home/parvej/anaconda3/envs/mmdet_human/lib/python3.7/site-packages (from moviepy) (2.31.1)\n",
      "Requirement already satisfied: imageio-ffmpeg>=0.2.0 in /home/parvej/anaconda3/envs/mmdet_human/lib/python3.7/site-packages (from moviepy) (0.4.8)\n",
      "Requirement already satisfied: pillow>=8.3.2 in /home/parvej/anaconda3/envs/mmdet_human/lib/python3.7/site-packages (from imageio<3.0,>=2.5->moviepy) (9.5.0)\n",
      "Requirement already satisfied: charset-normalizer<4,>=2 in /home/parvej/anaconda3/envs/mmdet_human/lib/python3.7/site-packages (from requests<3.0,>=2.8.1->moviepy) (3.2.0)\n",
      "Requirement already satisfied: idna<4,>=2.5 in /home/parvej/anaconda3/envs/mmdet_human/lib/python3.7/site-packages (from requests<3.0,>=2.8.1->moviepy) (2.10)\n",
      "Requirement already satisfied: urllib3<1.27,>=1.21.1 in /home/parvej/anaconda3/envs/mmdet_human/lib/python3.7/site-packages (from requests<3.0,>=2.8.1->moviepy) (1.26.16)\n",
      "Requirement already satisfied: certifi>=2017.4.17 in /home/parvej/anaconda3/envs/mmdet_human/lib/python3.7/site-packages (from requests<3.0,>=2.8.1->moviepy) (2022.12.7)\n"
     ]
    }
   ],
   "source": [
    "!pip install moviepy\n"
   ]
  },
  {
   "cell_type": "code",
   "execution_count": 4,
   "metadata": {},
   "outputs": [
    {
     "name": "stdout",
     "output_type": "stream",
     "text": [
      "Moviepy - Running:\n",
      ">>> \"+ \" \".join(cmd)\n",
      "Moviepy - Command successful\n"
     ]
    }
   ],
   "source": [
    "from moviepy.video.io.ffmpeg_tools import ffmpeg_extract_subclip\n",
    "\n",
    "# Input video file path\n",
    "input_video_file = 'Chelsea 0-1 Nottingham Forest _ HIGHLIGHTS _ Premier League 23_24(1).mp4'\n",
    "\n",
    "# Output video file path (trimmed)\n",
    "output_video_file = 'trimmed_video.mp4'\n",
    "\n",
    "# Start and end times for the trim (in seconds)\n",
    "start_time = 14  # Start time of the trimmed segment\n",
    "end_time = 34    # End time of the trimmed segment\n",
    "\n",
    "# Trim the video\n",
    "ffmpeg_extract_subclip(input_video_file, start_time, end_time, targetname=output_video_file)\n",
    "\n",
    "# print(f'Trimmed video saved as {output_video_file2}')\n"
   ]
  }
 ],
 "metadata": {
  "kernelspec": {
   "display_name": "mmdet_human",
   "language": "python",
   "name": "python3"
  },
  "language_info": {
   "codemirror_mode": {
    "name": "ipython",
    "version": 3
   },
   "file_extension": ".py",
   "mimetype": "text/x-python",
   "name": "python",
   "nbconvert_exporter": "python",
   "pygments_lexer": "ipython3",
   "version": "3.7.12"
  },
  "orig_nbformat": 4
 },
 "nbformat": 4,
 "nbformat_minor": 2
}
